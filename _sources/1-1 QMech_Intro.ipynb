{
  "cells": [
    {
      "cell_type": "markdown",
      "metadata": {
        "id": "T13fFlYsSWZX"
      },
      "source": [
        "# Quantum mechanics and Encoding of Quantum Information\n"
      ]
    },
    {
      "cell_type": "markdown",
      "metadata": {
        "id": "Sul8cLH2STJr"
      },
      "source": [
        "## Introduction\n",
        "How well can you see in the dark? How well does your GPS work? How do materials work? These questions are answered first and foremost by the rules of quantum mechanics.  In this tutotial, we'll start to get acquainted with some of these effects and with methods to predict them.\n"
      ]
    },
    {
      "cell_type": "code",
      "execution_count": null,
      "metadata": {
        "id": "Hax27MWCs7Dl"
      },
      "outputs": [],
      "source": [
        "!pip install qutip > null\n",
        "!pip install ipympl > null\n",
        "\n",
        "from numpy import cos, sin, pi, exp\n",
        "import numpy as np\n"
      ]
    },
    {
      "cell_type": "markdown",
      "metadata": {
        "id": "3Hf2R1Fem0Pe"
      },
      "source": [
        "### Problem 1. Traveling Electromagnetic Waves\n",
        "\n",
        "In class, we discussed electromagnetic fields propagating in a direction $\\mathbf{z}$ with electric and magnetic fields in the transverse ($x-y$) plane. We can describe any electric field vector in that plane by recording its projection onto two orthogonal basis vectors -- such as the $\\mathbf{x}$ and $\\mathbf{y}$ unit vectors, which humans like to denote as the 'horizontal' (H) and 'vertical' (V) polarization vectors in their earth-centric reference frames.\n",
        "\n",
        "Mathematically, we can describe a transverse electromagnetic field of arbitrary polarization as a sum of two modes (solutions to Maxwell's equations) that are individually polarized in these directions -- for example, $\\vec{E}\\propto E_x(\\vec{r},t) \\mathbf{x} + E_y(\\vec{r},t) \\mathbf{y}$, where in classical electromagnetism, $E_x(\\vec{r},t),E_y(\\vec{r},t)$ denote the field amplitudes at coordinates $\\vec{r},t$. For example, a laser field could be approximated by $E_x(\\vec{r},t)=E_{x,0} \\cos(\\omega t - k z + \\phi_x)$ and $E_y(\\vec{r},t)=E_{y,0} \\cos(\\omega t - k z + \\phi_y)$, where $E_{x/y,0} \\in \\mathbb R $ is a 'slowly varying envelope'. But if we turn down their amplitudes, measurements of these fields eventually show some unusual behavior, including the discreteness of optical energy -- the `quantization' of the EM field.\n",
        "\n",
        "Thus, Maxwell's equation describes the shape of a field; quantum mechanics describes a field's excitation.\n",
        "\n"
      ]
    },
    {
      "cell_type": "markdown",
      "metadata": {
        "id": "6ZMT71DxtF3e"
      },
      "source": [
        "\n",
        "#### 1.1 Number states\n",
        "\n",
        "We can express the instantaneous state of the transverse EM field, $|\\psi\\rangle $, by reference to the modes that constitute it, as well as their excitation. If we restrict ourselves to exactly one quantum (photon) of excitation between modes H and V, then we could write the state as $|\\psi\\rangle = \\alpha |1_H 0_V\\rangle + \\beta |0_H 1_V\\rangle $, where $|m_H n_V\\rangle$ is the Dirac notation for $m$ photons in mode $H$ and $n$ photons in mode $V$, respectively, and  $m,n\\in  \\mathbb N $.\n",
        "\n",
        "In the case of a single-photon excitation, it's common to abbreviate the logical-qubit notation to $|V\\rangle \\equiv |0_H 1_V\\rangle$ and $|H\\rangle \\equiv |1_H 0_V\\rangle$ to write the state as $|\\psi\\rangle = \\alpha |H\\rangle + \\beta |V\\rangle $. Be careful what's written in the bracket: it's purely notation, no algebra.\n",
        "\n",
        "* Q: Given the constraints imposed by $|\\langle \\psi | \\psi \\rangle|=1$, how many degrees of freedom remain in $\\alpha$ and $\\beta$ to describe an arbitrary $ | \\psi \\rangle$ ?\n"
      ]
    },
    {
      "cell_type": "markdown",
      "metadata": {
        "id": "smJJC_qMtxrr"
      },
      "source": [
        "####>"
      ]
    },
    {
      "cell_type": "markdown",
      "metadata": {
        "id": "6JSntzfatoOt"
      },
      "source": [
        "* A: $\\alpha$ and $\\beta$ are complex amplitudes so we start with 4 degrees of freedom.\n",
        "The constraint $|\\alpha|^2 + |\\beta|^2 = 1$ leaves us with 3 degrees of freedom. However,\n",
        "as mentioned in class, the global phase can in this case be dropped, so in this problem\n",
        "2 degrees of freedom would suffice to accurately describe the state evolution and measurements.\n",
        "\n",
        "Let's start to use qutip, the premier quantum mechanics package in python!\n"
      ]
    },
    {
      "cell_type": "code",
      "execution_count": null,
      "metadata": {
        "colab": {
          "base_uri": "https://localhost:8080/"
        },
        "id": "AG-HYco-tGdf",
        "outputId": "5de49a3c-96a8-47f8-a2ed-94b9956cd907"
      },
      "outputs": [
        {
          "name": "stderr",
          "output_type": "stream",
          "text": [
            "/usr/local/lib/python3.10/dist-packages/qutip/__init__.py:65: UserWarning: The new version of Cython, (>= 3.0.0) is not supported.\n",
            "  warnings.warn(\n"
          ]
        }
      ],
      "source": [
        "from qutip import basis, tensor\n",
        "from numpy import cos, sin, pi, exp\n",
        "\n",
        "# Let's start to use qutip, the premier quantum mechanics package in python\n",
        "\n",
        "# Define basis states\n",
        "ket_H = basis(2, 0)  # |1_H 0_V>\n",
        "ket_V = basis(2, 1)  # |0_H 1_V>\n",
        "\n",
        "# Define arbitrary α and β such that |α|^2 + |β|^2 = 1\n",
        "α = cos(pi/4)  # Setting α as cos(pi/4)\n",
        "β = sin(pi/4)   # Setting β as sin(pi/4)\n",
        "\n",
        "# Construct the state |ψ>\n",
        "ψ = α * tensor(ket_H, basis(2, 0)) + β * tensor(basis(2, 0), ket_V)  # Constructing the state |ψ>\n",
        "\n",
        "# A: α and β are complex amplitudes so we start with 4 degrees of freedom.\n",
        "# The constraint |α|^2 + |β|^2 = 1 leaves us with 3 degrees of freedom. However,\n",
        "# as mentioned in class, the global phase can in this case be dropped, so in this problem\n",
        "# 2 degrees of freedom would suffice to accurately describe the state evolution and measurements.\n"
      ]
    },
    {
      "cell_type": "code",
      "execution_count": null,
      "metadata": {
        "colab": {
          "base_uri": "https://localhost:8080/",
          "height": 453,
          "referenced_widgets": [
            "99e6b4b114ec43e3a5ed8a8b029fb3df",
            "c3a286a63eab43008ce97617350e7672",
            "1923f456c0da47acbac02a8b06ac4a50",
            "009e85a326584cabbd4b492fba5e6c62",
            "7f0d4cc158754ca3916f35cd2d7e42c8",
            "e5a5844d98e84655b86d58561c8de43c",
            "817259e8b2fd4a50b2869cdd9d763d73",
            "b508ecbb213343ebbe4e4a0172c7b1c3",
            "51888cde762c467295d845266512822f",
            "08f5c55a381a4d9383797dd8d5899636",
            "406b7657a9b94fe3bddf96976f9f8506",
            "eda268adc7fc4215b64a9a4a045a24bc",
            "ad41595fcb8e407f99aeb4defbe0ed10",
            "a13b284e33df451f98da516d6847d3cd"
          ]
        },
        "id": "8KYb3yOGwl2R",
        "outputId": "4f2ce716-50a9-4a2e-b814-f9a071fb7772"
      },
      "outputs": [],
      "source": [
        "# interactive plotting\n",
        "import numpy as np\n",
        "from ipywidgets import interactive\n",
        "import ipywidgets as widgets\n",
        "import matplotlib\n",
        "import matplotlib.pyplot as plt\n",
        "from google.colab import output\n",
        "output.enable_custom_widget_manager()\n",
        "from numpy import cos, sin, pi, exp\n",
        "\n",
        "%matplotlib ipympl\n",
        "\n",
        "from qutip import Bloch, basis\n",
        "\n",
        "# Set the text font size to 8 pt\n",
        "matplotlib.rcParams.update({'font.size': 10})  # Set the overall font size to 10 pt\n",
        "\n",
        "# Initialize the Bloch sphere outside the function\n",
        "b = Bloch()\n",
        "b.fig = plt.figure(figsize=(3, 3))\n",
        "\n",
        "# Customize Bloch sphere labels\n",
        "b.xlabel = ['$|H+V⟩$', '$|H-V⟩$']\n",
        "b.ylabel = ['$|H+iV⟩$', '$|H-iV⟩$']\n",
        "b.zlabel = ['$|H⟩$', '$|V⟩$']\n",
        "\n",
        "# Set the font size for the annotation\n",
        "b.font_size = 8  # Set the font size to 8 pt\n",
        "\n",
        "#def f(theta, phi, time=0):\n",
        "def f(theta, phi):\n",
        "\n",
        "    theta, phi = pi * theta / 180, pi * phi / 180  # Convert angles from degrees to radians\n",
        "\n",
        "    # Define quantum states |0> and |1>\n",
        "    ket0 = basis(2, 0)\n",
        "    ket1 = basis(2, 1)\n",
        "\n",
        "    # Create a quantum state on the Bloch sphere using theta and phi\n",
        "    psi = cos(theta/2) * ket0 + exp(1j * phi) * sin(theta/2) * ket1\n",
        " #   psi2 = cos(theta/3) * ket0 + exp(1j * phi) * sin(theta/2) * ket1\n",
        "\n",
        "    # Clear the previous states added to the Bloch sphere\n",
        "    b.clear()\n",
        "\n",
        "    # Add the new state to the Bloch sphere\n",
        "    b.add_states(psi)\n",
        "#    b.add_states(psi2)\n",
        "\n",
        "    # Render the Bloch sphere on the existing figure\n",
        "    b.render()\n",
        "    plt.draw()\n",
        "\n",
        "# Create interactive plot\n",
        "interactive_plot = interactive(f,\n",
        "                              theta=widgets.FloatSlider(value=45, min=0, max=180.0, step=10, description='Theta (deg)'),\n",
        "                              phi=widgets.FloatSlider(value=45, min=0, max=360.0, step=10, description='Phi (deg)'),\n",
        "                              #time=widgets.FloatSlider(value=0, min=0, max=6.28, step=0.1, description='Time'),\n",
        ")\n",
        "interactive_plot"
      ]
    },
    {
      "cell_type": "markdown",
      "metadata": {
        "id": "jNz9Zvz7tNNB"
      },
      "source": [
        "\n",
        "#### 1.2 Photon energy\n",
        "\n",
        "The `number states' $|m_H n_V\\rangle$ constitute a complete orthonormal basis for the transverse EM field considered here -- i.e., we can express all EM states $|\\phi\\rangle$ with arbitrary tranverse polarization and field strengths as a sum over these basis states.\n",
        "\n",
        "\n",
        "\n"
      ]
    },
    {
      "cell_type": "markdown",
      "metadata": {
        "id": "u4NEdk_47D2j"
      },
      "source": [
        "##### 1.2.1 Estimate\n",
        "* Q: For a wavelength of 1 $\\lambda=\\mu$m, calculate the energy $\\hbar \\omega$ of one quanta of excitation (1 photon) of the H or V mode, in electron volt (eV)? Here, $\\omega$ is the angular frequency and $\\hbar \\equiv h/2\\pi$."
      ]
    },
    {
      "cell_type": "code",
      "execution_count": null,
      "metadata": {
        "colab": {
          "base_uri": "https://localhost:8080/"
        },
        "id": "f6cdfJW22Z2b",
        "outputId": "5bf86b77-46e1-465e-f6a3-bd678db442dd"
      },
      "outputs": [
        {
          "data": {
            "text/plain": [
              "1.2398393795634255"
            ]
          },
          "execution_count": 7,
          "metadata": {},
          "output_type": "execute_result"
        }
      ],
      "source": [
        "# To calculate $\\hbar \\omega$ for a 1 µm wavelength, we can use the formula $\\omega = \\frac{2\\pi c}{\\lambda}$ and $\\hbar = \\frac{h}{2\\pi}$, where $\\lambda = 1,\\mu\\text{m}$. We can perform this calculation using QuTiP:\n",
        "\n",
        "import numpy as np\n",
        "from scipy.constants import h, c, micro\n",
        "\n",
        "# Wavelength in meters\n",
        "wavelength = 1.0 * micro  # 1 µm in meters\n",
        "\n",
        "# Calculate angular frequency omega\n",
        "omega = 2 * np.pi * c / wavelength\n",
        "\n",
        "# Calculate photon energy in electron volts (eV)\n",
        "hbar = h / (2 * np.pi)\n",
        "photon_energy_ev = hbar * omega / 1.60218e-19  # Convert to eV\n",
        "\n",
        "photon_energy_ev\n"
      ]
    },
    {
      "cell_type": "markdown",
      "metadata": {
        "id": "q_SvikJn2s75"
      },
      "source": [
        "#### 1.2.2 Photon energy compared to thermal energy\n",
        "* Q: Assuming the EM modes are thermalized with the environment at $T=300$ K, how does the photon energy $\\hbar \\omega$ compare to $k_B T$? What's the mean thermal occupation of this mode  -- i.,e, what's the mean number of photons you'd measure over some time at frequency $\\omega$?\n",
        "\n",
        "To find the mean occupation, you can assume the Bose-Einstein distribution:\n",
        "\n",
        "$$\n",
        "\\bar{n} = \\frac{1}{e^{\\frac{\\hbar \\omega}{k_B T}} - 1}\n",
        "$$"
      ]
    },
    {
      "cell_type": "markdown",
      "metadata": {
        "id": "V18ZYpLa690a"
      },
      "source": [
        "A: To compare $\\hbar \\omega$ to $k_B T$, where $k_B$ is the Boltzmann constant and $T$ is the temperature (in Kelvin), we can calculate both and compare their magnitudes. We can also calculate the probability of measuring a thermally excited photon. THis is very small:\n",
        "\n"
      ]
    },
    {
      "cell_type": "code",
      "execution_count": null,
      "metadata": {
        "colab": {
          "base_uri": "https://localhost:8080/"
        },
        "id": "R6DpjXJz21Fy",
        "outputId": "15469748-7cbd-479d-b97c-218d198f6fdd"
      },
      "outputs": [
        {
          "name": "stdout",
          "output_type": "stream",
          "text": [
            "1.987821045e-19 0.025851945474291278\n",
            "1.4359924589903149e-21\n"
          ]
        }
      ],
      "source": [
        "from scipy.constants import Boltzmann , h\n",
        "from scipy.special import expit\n",
        "\n",
        "# Given wavelength in meters\n",
        "wavelength = 1e-6  # 1 µm\n",
        "\n",
        "# Calculate angular frequency (in rad/s) using c = 3e8 m/s\n",
        "omega = 2 * np.pi * 3e8 / wavelength\n",
        "\n",
        "# Photon energy in electron volts (eV)\n",
        "photon_energy = omega * h/(2*np.pi)\n",
        "\n",
        "# Temperature in Kelvin\n",
        "T = 300  # 300 K\n",
        "\n",
        "# Calculate thermal energy k_B * T\n",
        "thermal_energy = Boltzmann * T\n",
        "\n",
        "# Compare photon energy to thermal energy\n",
        "print(photon_energy, thermal_energy / 1.60218e-19)  # Convert thermal energy to eV\n",
        "\n",
        "# Calculate probability of measuring a thermally excited photon using expit\n",
        "thermal_occupation = 1 / (np.exp(photon_energy /thermal_energy) - 1)\n",
        "\n",
        "print(thermal_occupation)\n"
      ]
    },
    {
      "cell_type": "markdown",
      "metadata": {
        "id": "v3vbLov53JTD"
      },
      "source": [
        "#### 1.2.3 Thermal occupation at microwave frequency\n",
        "Q: What if we considered instead microwaves at $\\omega/2\\pi = 3 $ GHz (near your kitchen microwave's frequency) -- what's the thermal occupation of an electromagnetic mode? If you wanted to bring the probability of thermal photon excitation of your microwave cavity below 1%, to what temperature would you need to cool the temperature of the mode? Order of magnitude answer is fine.\n",
        "\n"
      ]
    },
    {
      "cell_type": "markdown",
      "metadata": {
        "id": "QDL2aY_K3N09"
      },
      "source": [
        "A: To calculate the thermal occupation of an electromagnetic mode at $\\omega/2\\pi = 3$ GHz and determine the required temperature to achieve less than 1% thermal photon excitation, we can use QuTiP as follows:"
      ]
    },
    {
      "cell_type": "code",
      "execution_count": null,
      "metadata": {
        "colab": {
          "base_uri": "https://localhost:8080/"
        },
        "id": "4suWBUCu3Sw2",
        "outputId": "c3627736-3417-426f-fbca-8317cad3938a"
      },
      "outputs": [
        {
          "data": {
            "text/plain": [
              "(2083.1619523267705, 0.031196865103650512)"
            ]
          },
          "execution_count": 8,
          "metadata": {},
          "output_type": "execute_result"
        }
      ],
      "source": [
        "# Microwave frequency in Hz\n",
        "microwave_freq = 3e9  # 3 GHz in Hz\n",
        "\n",
        "# Calculate angular frequency omega for microwaves\n",
        "omega_microwave = 2 * np.pi * microwave_freq\n",
        "\n",
        "# Calculate thermal occupation using Bose-Einstein distribution\n",
        "thermal_occupation = 1 / (np.exp(hbar * omega_microwave / (Boltzmann * T)) - 1)\n",
        "\n",
        "# Calculate temperature to achieve < 1% thermal occupation, in Kelvin\n",
        "desired_occupation = 0.01  # 1% probability\n",
        "required_temperature = hbar * omega_microwave / (Boltzmann * np.log(1 / (desired_occupation) + 1))\n",
        "\n",
        "thermal_occupation, required_temperature\n"
      ]
    },
    {
      "cell_type": "markdown",
      "metadata": {
        "id": "vHKYROyt1fe7"
      },
      "source": [
        "\n",
        "#### 1.3 Logical encoding\n",
        "\n",
        "Let's use our modes to encode a qubit -- i.e., a physical state that, when measured, yields one of two possible measurement outcomes (a `two-level system').\n",
        "\n",
        "* Q: Define a set of orthonormal logical qubit states $|0\\rangle_L$ and $|1\\rangle_L$ in terms of the H and V polarizations. What would be a suitable measurement apparatus? (Sketch the apparatus, using linear optical components like beamsplitters and waveplates)\n"
      ]
    },
    {
      "cell_type": "markdown",
      "metadata": {
        "id": "Fd2r7syk4GQo"
      },
      "source": [
        "A: We can define the orthonormal logical qubit states as follows:\n",
        "\n",
        "$|0\\rangle_L = |H\\rangle$\n",
        "\n",
        "$|1\\rangle_L = |V\\rangle$\n",
        "\n",
        "In this notation, $|0\\rangle_L$ corresponds to a qubit in the horizontal polarization state, and $|1\\rangle_L$ corresponds to a qubit in the vertical polarization state.\n",
        "\n",
        "A suitable measurement apparatus for measuring these logical qubit states can involve linear optical components like beamsplitters and waveplates. To measure the logical qubit states, we can use a polarization beam splitter (PBS) and two single-photon detectors. Here's a sketch of the measurement apparatus:"
      ]
    },
    {
      "cell_type": "code",
      "execution_count": null,
      "metadata": {
        "id": "eBsozobv30C_"
      },
      "outputs": [],
      "source": [
        "                  PBS\n",
        "                  / \\\n",
        "                 /   \\\n",
        "           |0⟩_L/     \\ |1⟩_L\n",
        "               /       \\\n",
        "              /         \\\n",
        "        Detector 1    Detector 2\n"
      ]
    },
    {
      "cell_type": "markdown",
      "metadata": {
        "id": "ZdRjD-hq4LRv"
      },
      "source": [
        "In this setup:\n",
        "\n",
        "The PBS (Polarization Beam Splitter) splits the incoming photon based on its polarization.\n",
        "If the input photon is in the $|0\\rangle_L$ state (horizontal polarization), it will pass through the upper path and be detected by Detector 1.\n",
        "If the input photon is in the $|1\\rangle_L$ state (vertical polarization), it will be reflected down and be detected by Detector 2.\n",
        "This measurement scheme allows us to distinguish between the logical qubit states $|0\\rangle_L$ and $|1\\rangle_L$ based on their polarization. If the photon is in superposition, its state can be expressed as a linear combination of $|0\\rangle_L$ and $|1\\rangle_L$, and the measurement will project it onto one of these states based on its polarization.\n",
        "\n",
        "This is a basic example of a quantum measurement apparatus for logical qubits encoded in polarization states."
      ]
    },
    {
      "cell_type": "markdown",
      "metadata": {
        "id": "OhLvKWCu3zU4"
      },
      "source": [
        "\n",
        "\n",
        "#### 1.4 Mutually unbiased bases\n",
        "\n",
        "* Q: Can you think of an alternative qubit encoding that is `mutually unbiased' to your choice above -- i.e, the inner product defined as $|\\langle \\psi_A | \\psi_B \\rangle|^{2}=1/2$ for any two logical qubits drawn from basis $A$ and the other basis $B$?\n",
        "\n",
        "Such mutually unbiased logical bases are commonly used in quantum key distribution (QKD) schemes among two trusted parties, A and B, to minimize information leakage to possible eavesdroppers. If the eavesdropper measures in a basis different from the sender, their measured signal would not correlate with the sender's -- and, conversely, the eavesdropper can minimize information leakage to the legitimate parties by measuring in a basis mutually unbiased to theirs."
      ]
    },
    {
      "cell_type": "markdown",
      "metadata": {
        "id": "xsKp2TFd5qmy"
      },
      "source": [
        "Yes, another basis would be the Hadamard Basis:\n",
        "\n",
        "|+⟩ = (|0⟩ + |1⟩) / √2\n",
        "|-⟩ = (|0⟩ - |1⟩) / √2\n",
        "\n",
        ".. or the Circular Basis:\n",
        "\n",
        "|↻⟩ = (|0⟩ + i|1⟩) / √2\n",
        "|↺⟩ = (|0⟩ - i|1⟩) / √2\n",
        "\n"
      ]
    },
    {
      "cell_type": "markdown",
      "metadata": {
        "id": "VofwacB0BNPk"
      },
      "source": [
        "#### 1.5 Generalization\n",
        "The polarization encoding of the 1-photon qubit encoding is one example of a \\`two-mode' or `dual-rail' encoding on any two electromagnetic modes. For example, we could also encode the qubit on the forward- and backward-propagating modes, or we could encode the qubit on two spatially offset light fields.\n",
        "\n",
        "An alternative logical encoding would be to use only one mode -- let's say field H -- but to realize the two levels by the number state. I.e., we could choose $|0\\rangle_L=|m_H=0\\rangle$ and $|1\\rangle_L=|m_H=1\\rangle$. However, this `number-state' qubit basis is almost never used."
      ]
    },
    {
      "cell_type": "markdown",
      "metadata": {
        "id": "a6ytqGuTBvAf"
      },
      "source": [
        "* Q: Why do people prefer the dual-rail encoding, and how does it relate to optical loss?\n"
      ]
    },
    {
      "cell_type": "markdown",
      "metadata": {
        "id": "q3uhz3IrB10x"
      },
      "source": [
        "A: The dual-rail encoding is preferred for quantum communication due to its robustness against optical loss. When quantum information is encoded in two spatially separated modes, such as horizontal (H) and vertical (V) polarizations, optical loss in one of the modes does not result in complete information loss. The redundancy in the dual-rail encoding offers the following advantages:\n",
        "\n",
        "Fault Tolerance: If one of the modes experiences optical loss or attenuation during transmission, the information can still be retrieved from the remaining mode. This redundancy makes the encoding more resilient against optical losses, which are common in practical quantum communication scenarios.\n",
        "\n",
        "Error Detection and Correction: The redundancy allows for error detection and correction. By comparing the information stored in both modes, errors can be identified, and appropriate error correction techniques can be applied to recover the original quantum state.\n"
      ]
    },
    {
      "cell_type": "markdown",
      "metadata": {
        "id": "Z_keX5PPB5o8"
      },
      "source": [
        "Q: How many sets of mutually unbiased bases are there for single-photon polarization encoding in our logical qubit example?\n"
      ]
    },
    {
      "cell_type": "markdown",
      "metadata": {
        "id": "-g7V2mWJCIEd"
      },
      "source": [
        "A:\n",
        "For a quantum system with two mutually unbiased bases, there are a total of three such sets of bases. This is a general result for a qubit system.\n",
        "\n",
        "In the context of qubits, the standard basis is typically denoted as {|0⟩, |1⟩}, which corresponds to the logical basis. The other two mutually unbiased bases can be defined in terms of different sets of basis states.\n",
        "\n",
        "Here are the three sets of mutually unbiased bases for qubits:\n",
        "\n",
        "Standard Basis (Logical Basis):\n",
        "\n",
        "|0⟩\n",
        "|1⟩\n",
        "Hadamard Basis:\n",
        "\n",
        "|+⟩ = (|0⟩ + |1⟩) / √2\n",
        "|-⟩ = (|0⟩ - |1⟩) / √2\n",
        "Circular Basis:\n",
        "\n",
        "|↻⟩ = (|0⟩ + i|1⟩) / √2\n",
        "|↺⟩ = (|0⟩ - i|1⟩) / √2\n",
        "These bases are mutually unbiased because the inner product of any pair of basis states from different bases has a magnitude of 1/√2, satisfying the condition for mutual unbiasedness.\n"
      ]
    },
    {
      "cell_type": "markdown",
      "metadata": {
        "id": "NvuGrJ1Y8DYD"
      },
      "source": [
        "Comment: There's a systematic construction that starts from the Lie algebra (group theory). Here, the following set of rotations forms a basis for the Lie algebra su(2), representing the group of unitary 2x2 matrices. The Pauli matrices, including X and Y, generate rotations in the Bloch sphere, allow us to transform between different bases.\n",
        "\n",
        "\n",
        "\n",
        "| Basis                | Basis State | Construction                             |\n",
        "|----------------------|-------------|------------------------------------------|\n",
        "| Hadamard Basis       | \\|0⟩_H       | H                                      |\n",
        "|                      | \\|1⟩_H       | HX                                     |\n",
        "| Circular Basis       | \\|0⟩_C       | S                                      |\n",
        "| (X-Basis)            | \\|1⟩_C       | SX                                     |\n",
        "| Standard Basis       | \\|0⟩_Z       | I                                      |\n",
        "| (Computational Basis)| \\|1⟩_Z       | X                                      |\n"
      ]
    },
    {
      "cell_type": "markdown",
      "metadata": {
        "id": "n1Yyrg_PC57A"
      },
      "source": [
        "Let's use Qutip to demonstrate these bases.\n"
      ]
    },
    {
      "cell_type": "code",
      "execution_count": null,
      "metadata": {
        "colab": {
          "base_uri": "https://localhost:8080/",
          "height": 393
        },
        "id": "6vz6aYeFDBLn",
        "outputId": "9f2cd783-843b-413f-b665-120a9c6d517f"
      },
      "outputs": [],
      "source": [
        "from qutip import *\n",
        "\n",
        "# Define the basis states\n",
        "ket_H = basis(2, 0)  # |H⟩\n",
        "ket_V = basis(2, 1)  # |V⟩\n",
        "ket_D1 = (ket_H + ket_V).unit()  # |D1⟩\n",
        "ket_D2 = (ket_H - ket_V).unit()  # |D2⟩\n",
        "ket_C1 = (ket_H + 1j * ket_V).unit()  # |C1⟩\n",
        "ket_C2 = (ket_H - 1j * ket_V).unit()  # |C2⟩\n",
        "\n",
        "# Check mutual unbiasedness\n",
        "basis_sets = [\n",
        "    (\"Standard (Z) Basis\", [ket_H, ket_V]),\n",
        "    (\"Diagonal (D) Basis\", [ket_D1, ket_D2]),\n",
        "    (\"Circular (C) Basis\", [ket_C1, ket_C2])\n",
        "]\n",
        "\n",
        "for basis_name, basis_states in basis_sets:\n",
        "    print(f\"{basis_name}:\")\n",
        "    for i, state1 in enumerate(basis_states):\n",
        "        for j, state2 in enumerate(basis_states):\n",
        "            if i != j:\n",
        "                inner_product = abs(state1.overlap(state2)) ** 2\n",
        "                print(f\"|⟨{state1}|{state2}⟩|^2 = {inner_product:.2f}\")\n",
        "    print()\n",
        "\n",
        "\n",
        "from qutip import Bloch, basis\n",
        "\n",
        "# Create Bloch sphere instance\n",
        "b = Bloch()\n",
        "\n",
        "# Define basis states\n",
        "ket_H = basis(2, 0)  # |H⟩\n",
        "ket_V = basis(2, 1)  # |V⟩\n",
        "ket_D1 = (ket_H + ket_V).unit()  # |D1⟩\n",
        "ket_D2 = (ket_H - ket_V).unit()  # |D2⟩\n",
        "ket_C1 = (ket_H + 1j * ket_V).unit()  # |C1⟩\n",
        "ket_C2 = (ket_H - 1j * ket_V).unit()  # |C2⟩\n",
        "\n",
        "# Add states to the Bloch sphere\n",
        "b.add_states([ket_H, ket_V, ket_D1, ket_D2, ket_C1, ket_C2])\n",
        "\n",
        "# Render the Bloch sphere\n",
        "b.show()\n"
      ]
    },
    {
      "cell_type": "markdown",
      "metadata": {
        "id": "4CpJrLgIl2u8"
      },
      "source": [
        "### Problem 2. Matrix algebra\n",
        "In the context of single-photon polarization encoding, consider the following notation for the basis states:\n",
        "$|H⟩$ represents the state $|1_H,0_V⟩$\n",
        "$|V⟩$ represents the state $|0_H 1_V⟩$\n",
        "\n",
        "Now, let's examine an arbitrary state |ϕ⟩, which can be represented in the logical qubit basis as:\n",
        "$$|ϕ⟩ = ⟨H|ϕ⟩ |H⟩ + ⟨V|ϕ⟩ |V⟩$$\n",
        "\n",
        "Here, $⟨H|ϕ⟩$ and $⟨V|ϕ⟩$ are the wavefunction values corresponding to the logical qubit states |H⟩ and |V⟩.\n",
        "\n",
        "Suppose there exists a transformation from |ϕ⟩ to |ψ⟩, which is represented by a 2x2 matrix U:\n",
        "$$|\\psi\\rangle = U |\\phi\\rangle$$\n",
        "\n",
        "Show that this transformation matrix U must be unitary. In other words, demonstrate that for the conjugate transpose U*, also known as the Hermitian adjoint U†, the following equality holds:\n",
        "$$U^\\dagger U = U U^\\dagger= I_2$$\n",
        "Where $I_2$ is the 2x2 identity matrix.\n",
        "\n",
        "\n"
      ]
    },
    {
      "cell_type": "markdown",
      "metadata": {
        "id": "qRdN3rGYLomB"
      },
      "source": [
        "A:\n",
        "\n",
        "1. Expand the expressions $\\langle H|U^\\dagger U|H\\rangle$ and $\\langle V|U^\\dagger U|V\\rangle$ using matrix multiplication and Hermitian conjugation:\n",
        "$$\n",
        "\\langle H|U^\\dagger U|H \\rangle = \\begin{pmatrix}1 & 0\\end{pmatrix} U^\\dagger U \\begin{pmatrix}1 \\\\ 0 \\end{pmatrix} = u_{11}^* u_{11} + u_{12}^* u_{12} = |u_{11}|^2 + |u_{12}|^2 \\\\\n",
        "\\langle V|U^\\dagger U|V\\rangle = \\begin{pmatrix}0 & 1\\end{pmatrix} U^\\dagger U \\begin{pmatrix}0 \\\\ 1 \\end{pmatrix} = u_{21}^* u_{21} + u_{22}^* u_{22} = |u_{21}|^2 + |u_{22}|^2\n",
        "$$\n",
        "\n",
        "2. Use the fact that the norm of a state is equal to its inner product with itself:\n",
        "$$|H|^2 = 1 \\quad \\text{and} \\quad |V|^2 = 1$$\n",
        "\n",
        "3. Deduce that \\( |u_{11}|^2 + |u_{12}|^2 = 1 \\) and \\( $|u_{21}|^2 + |u_{22}|^2 = 1$ \\), which means that the matrix $U $ satisfies the condition for being unitary.\n",
        "Hence, if a 2x2 matrix $ |H\\rangle  $ preserves the normalization of probability amplitudes for polarization states $ |H\\rangle $ and $ |V\\rangle $ , it must be unitary.\n",
        "\n"
      ]
    }
  ],
  "metadata": {
    "colab": {
      "collapsed_sections": [
        "7CUefign3M6h"
      ],
      "provenance": []
    },
    "kernelspec": {
      "display_name": "Python 3",
      "name": "python3"
    },
    "language_info": {
      "name": "python"
    },
    "widgets": {
      "application/vnd.jupyter.widget-state+json": {
        "009e85a326584cabbd4b492fba5e6c62": {
          "model_module": "@jupyter-widgets/output",
          "model_module_version": "1.0.0",
          "model_name": "OutputModel",
          "state": {
            "_dom_classes": [],
            "_model_module": "@jupyter-widgets/output",
            "_model_module_version": "1.0.0",
            "_model_name": "OutputModel",
            "_view_count": null,
            "_view_module": "@jupyter-widgets/output",
            "_view_module_version": "1.0.0",
            "_view_name": "OutputView",
            "layout": "IPY_MODEL_08f5c55a381a4d9383797dd8d5899636",
            "msg_id": "",
            "outputs": []
          }
        },
        "08f5c55a381a4d9383797dd8d5899636": {
          "model_module": "@jupyter-widgets/base",
          "model_module_version": "1.2.0",
          "model_name": "LayoutModel",
          "state": {
            "_model_module": "@jupyter-widgets/base",
            "_model_module_version": "1.2.0",
            "_model_name": "LayoutModel",
            "_view_count": null,
            "_view_module": "@jupyter-widgets/base",
            "_view_module_version": "1.2.0",
            "_view_name": "LayoutView",
            "align_content": null,
            "align_items": null,
            "align_self": null,
            "border": null,
            "bottom": null,
            "display": null,
            "flex": null,
            "flex_flow": null,
            "grid_area": null,
            "grid_auto_columns": null,
            "grid_auto_flow": null,
            "grid_auto_rows": null,
            "grid_column": null,
            "grid_gap": null,
            "grid_row": null,
            "grid_template_areas": null,
            "grid_template_columns": null,
            "grid_template_rows": null,
            "height": null,
            "justify_content": null,
            "justify_items": null,
            "left": null,
            "margin": null,
            "max_height": null,
            "max_width": null,
            "min_height": null,
            "min_width": null,
            "object_fit": null,
            "object_position": null,
            "order": null,
            "overflow": null,
            "overflow_x": null,
            "overflow_y": null,
            "padding": null,
            "right": null,
            "top": null,
            "visibility": null,
            "width": null
          }
        },
        "1923f456c0da47acbac02a8b06ac4a50": {
          "model_module": "@jupyter-widgets/controls",
          "model_module_version": "1.5.0",
          "model_name": "FloatSliderModel",
          "state": {
            "_dom_classes": [],
            "_model_module": "@jupyter-widgets/controls",
            "_model_module_version": "1.5.0",
            "_model_name": "FloatSliderModel",
            "_view_count": null,
            "_view_module": "@jupyter-widgets/controls",
            "_view_module_version": "1.5.0",
            "_view_name": "FloatSliderView",
            "continuous_update": true,
            "description": "Phi (deg)",
            "description_tooltip": null,
            "disabled": false,
            "layout": "IPY_MODEL_b508ecbb213343ebbe4e4a0172c7b1c3",
            "max": 360,
            "min": 0,
            "orientation": "horizontal",
            "readout": true,
            "readout_format": ".2f",
            "step": 10,
            "style": "IPY_MODEL_51888cde762c467295d845266512822f",
            "value": 50
          }
        },
        "406b7657a9b94fe3bddf96976f9f8506": {
          "model_module": "jupyter-matplotlib",
          "model_module_version": "^0.11",
          "model_name": "MPLCanvasModel",
          "state": {
            "_cursor": "default",
            "_data_url": "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",
            "_dom_classes": [],
            "_figure_label": "Figure 1",
            "_image_mode": "full",
            "_message": "",
            "_model_module": "jupyter-matplotlib",
            "_model_module_version": "^0.11",
            "_model_name": "MPLCanvasModel",
            "_rubberband_height": 0,
            "_rubberband_width": 0,
            "_rubberband_x": 0,
            "_rubberband_y": 0,
            "_size": [
              300,
              300
            ],
            "_view_count": null,
            "_view_module": "jupyter-matplotlib",
            "_view_module_version": "^0.11",
            "_view_name": "MPLCanvasView",
            "capture_scroll": false,
            "footer_visible": true,
            "header_visible": true,
            "layout": "IPY_MODEL_eda268adc7fc4215b64a9a4a045a24bc",
            "pan_zoom_throttle": 33,
            "resizable": true,
            "toolbar": "IPY_MODEL_ad41595fcb8e407f99aeb4defbe0ed10",
            "toolbar_position": "left",
            "toolbar_visible": "fade-in-fade-out"
          }
        },
        "51888cde762c467295d845266512822f": {
          "model_module": "@jupyter-widgets/controls",
          "model_module_version": "1.5.0",
          "model_name": "SliderStyleModel",
          "state": {
            "_model_module": "@jupyter-widgets/controls",
            "_model_module_version": "1.5.0",
            "_model_name": "SliderStyleModel",
            "_view_count": null,
            "_view_module": "@jupyter-widgets/base",
            "_view_module_version": "1.2.0",
            "_view_name": "StyleView",
            "description_width": "",
            "handle_color": null
          }
        },
        "7f0d4cc158754ca3916f35cd2d7e42c8": {
          "model_module": "@jupyter-widgets/base",
          "model_module_version": "1.2.0",
          "model_name": "LayoutModel",
          "state": {
            "_model_module": "@jupyter-widgets/base",
            "_model_module_version": "1.2.0",
            "_model_name": "LayoutModel",
            "_view_count": null,
            "_view_module": "@jupyter-widgets/base",
            "_view_module_version": "1.2.0",
            "_view_name": "LayoutView",
            "align_content": null,
            "align_items": null,
            "align_self": null,
            "border": null,
            "bottom": null,
            "display": null,
            "flex": null,
            "flex_flow": null,
            "grid_area": null,
            "grid_auto_columns": null,
            "grid_auto_flow": null,
            "grid_auto_rows": null,
            "grid_column": null,
            "grid_gap": null,
            "grid_row": null,
            "grid_template_areas": null,
            "grid_template_columns": null,
            "grid_template_rows": null,
            "height": null,
            "justify_content": null,
            "justify_items": null,
            "left": null,
            "margin": null,
            "max_height": null,
            "max_width": null,
            "min_height": null,
            "min_width": null,
            "object_fit": null,
            "object_position": null,
            "order": null,
            "overflow": null,
            "overflow_x": null,
            "overflow_y": null,
            "padding": null,
            "right": null,
            "top": null,
            "visibility": null,
            "width": null
          }
        },
        "817259e8b2fd4a50b2869cdd9d763d73": {
          "model_module": "@jupyter-widgets/controls",
          "model_module_version": "1.5.0",
          "model_name": "SliderStyleModel",
          "state": {
            "_model_module": "@jupyter-widgets/controls",
            "_model_module_version": "1.5.0",
            "_model_name": "SliderStyleModel",
            "_view_count": null,
            "_view_module": "@jupyter-widgets/base",
            "_view_module_version": "1.2.0",
            "_view_name": "StyleView",
            "description_width": "",
            "handle_color": null
          }
        },
        "99e6b4b114ec43e3a5ed8a8b029fb3df": {
          "model_module": "@jupyter-widgets/controls",
          "model_module_version": "1.5.0",
          "model_name": "VBoxModel",
          "state": {
            "_dom_classes": [
              "widget-interact"
            ],
            "_model_module": "@jupyter-widgets/controls",
            "_model_module_version": "1.5.0",
            "_model_name": "VBoxModel",
            "_view_count": null,
            "_view_module": "@jupyter-widgets/controls",
            "_view_module_version": "1.5.0",
            "_view_name": "VBoxView",
            "box_style": "",
            "children": [
              "IPY_MODEL_c3a286a63eab43008ce97617350e7672",
              "IPY_MODEL_1923f456c0da47acbac02a8b06ac4a50",
              "IPY_MODEL_009e85a326584cabbd4b492fba5e6c62"
            ],
            "layout": "IPY_MODEL_7f0d4cc158754ca3916f35cd2d7e42c8"
          }
        },
        "a13b284e33df451f98da516d6847d3cd": {
          "model_module": "@jupyter-widgets/base",
          "model_module_version": "1.2.0",
          "model_name": "LayoutModel",
          "state": {
            "_model_module": "@jupyter-widgets/base",
            "_model_module_version": "1.2.0",
            "_model_name": "LayoutModel",
            "_view_count": null,
            "_view_module": "@jupyter-widgets/base",
            "_view_module_version": "1.2.0",
            "_view_name": "LayoutView",
            "align_content": null,
            "align_items": null,
            "align_self": null,
            "border": null,
            "bottom": null,
            "display": null,
            "flex": null,
            "flex_flow": null,
            "grid_area": null,
            "grid_auto_columns": null,
            "grid_auto_flow": null,
            "grid_auto_rows": null,
            "grid_column": null,
            "grid_gap": null,
            "grid_row": null,
            "grid_template_areas": null,
            "grid_template_columns": null,
            "grid_template_rows": null,
            "height": null,
            "justify_content": null,
            "justify_items": null,
            "left": null,
            "margin": null,
            "max_height": null,
            "max_width": null,
            "min_height": null,
            "min_width": null,
            "object_fit": null,
            "object_position": null,
            "order": null,
            "overflow": null,
            "overflow_x": null,
            "overflow_y": null,
            "padding": null,
            "right": null,
            "top": null,
            "visibility": null,
            "width": null
          }
        },
        "ad41595fcb8e407f99aeb4defbe0ed10": {
          "model_module": "jupyter-matplotlib",
          "model_module_version": "^0.11",
          "model_name": "ToolbarModel",
          "state": {
            "_current_action": "",
            "_dom_classes": [],
            "_model_module": "jupyter-matplotlib",
            "_model_module_version": "^0.11",
            "_model_name": "ToolbarModel",
            "_view_count": null,
            "_view_module": "jupyter-matplotlib",
            "_view_module_version": "^0.11",
            "_view_name": "ToolbarView",
            "button_style": "",
            "collapsed": true,
            "layout": "IPY_MODEL_a13b284e33df451f98da516d6847d3cd",
            "orientation": "vertical",
            "toolitems": [
              [
                "Home",
                "Reset original view",
                "home",
                "home"
              ],
              [
                "Back",
                "Back to previous view",
                "arrow-left",
                "back"
              ],
              [
                "Forward",
                "Forward to next view",
                "arrow-right",
                "forward"
              ],
              [
                "Pan",
                "Left button pans, Right button zooms\nx/y fixes axis, CTRL fixes aspect",
                "arrows",
                "pan"
              ],
              [
                "Zoom",
                "Zoom to rectangle\nx/y fixes axis",
                "square-o",
                "zoom"
              ],
              [
                "Download",
                "Download plot",
                "floppy-o",
                "save_figure"
              ]
            ]
          }
        },
        "b508ecbb213343ebbe4e4a0172c7b1c3": {
          "model_module": "@jupyter-widgets/base",
          "model_module_version": "1.2.0",
          "model_name": "LayoutModel",
          "state": {
            "_model_module": "@jupyter-widgets/base",
            "_model_module_version": "1.2.0",
            "_model_name": "LayoutModel",
            "_view_count": null,
            "_view_module": "@jupyter-widgets/base",
            "_view_module_version": "1.2.0",
            "_view_name": "LayoutView",
            "align_content": null,
            "align_items": null,
            "align_self": null,
            "border": null,
            "bottom": null,
            "display": null,
            "flex": null,
            "flex_flow": null,
            "grid_area": null,
            "grid_auto_columns": null,
            "grid_auto_flow": null,
            "grid_auto_rows": null,
            "grid_column": null,
            "grid_gap": null,
            "grid_row": null,
            "grid_template_areas": null,
            "grid_template_columns": null,
            "grid_template_rows": null,
            "height": null,
            "justify_content": null,
            "justify_items": null,
            "left": null,
            "margin": null,
            "max_height": null,
            "max_width": null,
            "min_height": null,
            "min_width": null,
            "object_fit": null,
            "object_position": null,
            "order": null,
            "overflow": null,
            "overflow_x": null,
            "overflow_y": null,
            "padding": null,
            "right": null,
            "top": null,
            "visibility": null,
            "width": null
          }
        },
        "c3a286a63eab43008ce97617350e7672": {
          "model_module": "@jupyter-widgets/controls",
          "model_module_version": "1.5.0",
          "model_name": "FloatSliderModel",
          "state": {
            "_dom_classes": [],
            "_model_module": "@jupyter-widgets/controls",
            "_model_module_version": "1.5.0",
            "_model_name": "FloatSliderModel",
            "_view_count": null,
            "_view_module": "@jupyter-widgets/controls",
            "_view_module_version": "1.5.0",
            "_view_name": "FloatSliderView",
            "continuous_update": true,
            "description": "Theta (deg)",
            "description_tooltip": null,
            "disabled": false,
            "layout": "IPY_MODEL_e5a5844d98e84655b86d58561c8de43c",
            "max": 180,
            "min": 0,
            "orientation": "horizontal",
            "readout": true,
            "readout_format": ".2f",
            "step": 10,
            "style": "IPY_MODEL_817259e8b2fd4a50b2869cdd9d763d73",
            "value": 50
          }
        },
        "e5a5844d98e84655b86d58561c8de43c": {
          "model_module": "@jupyter-widgets/base",
          "model_module_version": "1.2.0",
          "model_name": "LayoutModel",
          "state": {
            "_model_module": "@jupyter-widgets/base",
            "_model_module_version": "1.2.0",
            "_model_name": "LayoutModel",
            "_view_count": null,
            "_view_module": "@jupyter-widgets/base",
            "_view_module_version": "1.2.0",
            "_view_name": "LayoutView",
            "align_content": null,
            "align_items": null,
            "align_self": null,
            "border": null,
            "bottom": null,
            "display": null,
            "flex": null,
            "flex_flow": null,
            "grid_area": null,
            "grid_auto_columns": null,
            "grid_auto_flow": null,
            "grid_auto_rows": null,
            "grid_column": null,
            "grid_gap": null,
            "grid_row": null,
            "grid_template_areas": null,
            "grid_template_columns": null,
            "grid_template_rows": null,
            "height": null,
            "justify_content": null,
            "justify_items": null,
            "left": null,
            "margin": null,
            "max_height": null,
            "max_width": null,
            "min_height": null,
            "min_width": null,
            "object_fit": null,
            "object_position": null,
            "order": null,
            "overflow": null,
            "overflow_x": null,
            "overflow_y": null,
            "padding": null,
            "right": null,
            "top": null,
            "visibility": null,
            "width": null
          }
        },
        "eda268adc7fc4215b64a9a4a045a24bc": {
          "model_module": "@jupyter-widgets/base",
          "model_module_version": "1.2.0",
          "model_name": "LayoutModel",
          "state": {
            "_model_module": "@jupyter-widgets/base",
            "_model_module_version": "1.2.0",
            "_model_name": "LayoutModel",
            "_view_count": null,
            "_view_module": "@jupyter-widgets/base",
            "_view_module_version": "1.2.0",
            "_view_name": "LayoutView",
            "align_content": null,
            "align_items": null,
            "align_self": null,
            "border": null,
            "bottom": null,
            "display": null,
            "flex": null,
            "flex_flow": null,
            "grid_area": null,
            "grid_auto_columns": null,
            "grid_auto_flow": null,
            "grid_auto_rows": null,
            "grid_column": null,
            "grid_gap": null,
            "grid_row": null,
            "grid_template_areas": null,
            "grid_template_columns": null,
            "grid_template_rows": null,
            "height": null,
            "justify_content": null,
            "justify_items": null,
            "left": null,
            "margin": null,
            "max_height": null,
            "max_width": null,
            "min_height": null,
            "min_width": null,
            "object_fit": null,
            "object_position": null,
            "order": null,
            "overflow": null,
            "overflow_x": null,
            "overflow_y": null,
            "padding": null,
            "right": null,
            "top": null,
            "visibility": null,
            "width": null
          }
        }
      }
    }
  },
  "nbformat": 4,
  "nbformat_minor": 0
}
