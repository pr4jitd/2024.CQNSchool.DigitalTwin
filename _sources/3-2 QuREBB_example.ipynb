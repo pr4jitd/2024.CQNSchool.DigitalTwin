{
 "cells": [
  {
   "cell_type": "markdown",
   "id": "267c3483-30f2-4452-a546-0ad79e561d39",
   "metadata": {},
   "source": [
    "# Example Notebook\n",
    "## Conditional Amplitude Reflection Spin-Spin Entanglement"
   ]
  },
  {
   "cell_type": "markdown",
   "id": "938da062-ad80-4476-b7b5-113bda9c4c92",
   "metadata": {},
   "source": [
    "In this notebook we show how to construct a Protocol to simulate Spin-Spin Entanglement using a Conditional Amplitude Reflection SPI (See Section IV C 4 of [1]). This is Protocol C in [1]."
   ]
  },
  {
   "cell_type": "markdown",
   "id": "8f7284ef-9c7c-46bb-abf2-6df9b92b82b1",
   "metadata": {},
   "source": [
    "## Setting up the protocol:"
   ]
  },
  {
   "cell_type": "code",
   "execution_count": 1,
   "id": "c3f78698-63c2-4578-addb-fecdfddac083",
   "metadata": {},
   "outputs": [],
   "source": [
    "# Utility and common imports\n",
    "\n",
    "import sys\n",
    "from os.path import expanduser, join\n",
    "home = expanduser(\"~\")\n",
    "sys.path.append(join(home, 'Repositories/2024.CQNSCHOOL.DIGITALTWIN'))\n",
    "from copy import copy\n",
    "import numpy as np\n",
    "import matplotlib.pyplot as plt\n",
    "\n",
    "# QuREBB library imports\n",
    "\n",
    "import lib.LBB as lbb\n",
    "import lib.PBB as pbb\n",
    "import lib.NQobj as nq\n",
    "import lib.states as st\n",
    "import lib.quantum_optical_modelling as qom\n",
    "from lib.PBB import no_vacuum_projector\n",
    "from lib.protocol import Protocol"
   ]
  },
  {
   "cell_type": "markdown",
   "id": "242204a2-e1c5-49b7-86f7-270aef32a0d5",
   "metadata": {},
   "source": [
    "First, we look at the Logical Building Blocks and Encoding.\n",
    "\n",
    "![image.png](Images/qurebb_example_1.png))"
   ]
  },
  {
   "cell_type": "markdown",
   "id": "bac6c81b-399e-430e-b326-14abc392f007",
   "metadata": {},
   "source": [
    "We start with a single photon in Time-Bin encoding, prepared in $|+\\rangle = 1/\\sqrt{2}(|E\\rangle + |L\\rangle)$, and two spins Alice and Bob, both prepared in $|+\\rangle=1/\\sqrt{2}(|\\uparrow\\rangle + |\\downarrow\\rangle)$.\n",
    "\n",
    "The photon then interacts with a Conditional Amplitude Reflection SPI based on a cavity-emitter system of Alice, then with the one of Bob.\n",
    "\n",
    "To measure entanglement we need to measure the photonic qubit in the X basis, therefore we apply a rotation gate before we measure in the| $\\{|E\\rangle, |L\\rangle\\}$ basis."
   ]
  },
  {
   "cell_type": "markdown",
   "id": "4adc57c4-3256-4200-b80f-6021e7dc02b1",
   "metadata": {},
   "source": [
    "We first create our protocol, inheriting from the Protocol class.\n",
    "Here we need to define:\n",
    "\n",
    "\n",
    " - The initial density matrix of the spin state(s)\n",
    " - The projector of the photonic state we want to herald for successful entanglement\n",
    " - The target state of our protocol\n",
    "\n",
    "\n",
    "Often different final photonic states correspond to a different entangled state generation. The protocol allows one to define a list of photon state projectors and target states. They have to correspond one-to-one, for each herald state the protocol calculates the fidelity of the corresponding target state.\n",
    "\n",
    "Detecting a photon in $|E\\rangle$ will herald the final Bell state $|\\psi_+\\rangle$, and detecting a photon in $|L\\rangle$ will herald $|\\psi_-\\rangle$.\n",
    "The detection is done using the projector on \"non vacuum\" state: $P = \\mathbb{1} - |vac\\rangle\\langle vac |$."
   ]
  },
  {
   "cell_type": "code",
   "execution_count": 2,
   "id": "b3f0cb02-0c50-4732-ba72-583eb4a99750",
   "metadata": {},
   "outputs": [],
   "source": [
    "class ExampleProtocol(Protocol):\n",
    "    \"\"\" \n",
    "        Our protocol class to simulate Spin-Photon Entanglement\n",
    "    \"\"\"\n",
    "    def __init__(self, parameters: dict):\n",
    "        super().__init__(parameters)\n",
    "\n",
    "        # We prepare the initial state of the spins in |x >\n",
    "        self.dm_init = nq.tensor(nq.name(st.x_dm, \"Alice\", \"state\"), nq.name(st.x_dm, \"Bob\", \"state\"))\n",
    "\n",
    "        # We definet the two herald state projectors.\n",
    "        self.herald_projectors = [\n",
    "            no_vacuum_projector(name=\"E\", dim=self.dim),\n",
    "            no_vacuum_projector(name=\"L\", dim=self.dim),\n",
    "        ]\n",
    "\n",
    "        # And the corresponding target entangled states\n",
    "\n",
    "        state_uu = nq.tensor(nq.name(st.up, \"Alice\", \"state\"), nq.name(st.up, \"Bob\", \"state\"))\n",
    "        state_dd = nq.tensor(nq.name(st.down, \"Alice\", \"state\"), nq.name(st.down, \"Bob\", \"state\"))\n",
    "        \n",
    "        self.target_states = [\n",
    "            (state_uu + state_dd).unit(), \n",
    "            (state_uu - state_dd).unit()\n",
    "        ]\n",
    "        \n",
    "\n",
    "        \n",
    "        "
   ]
  },
  {
   "cell_type": "markdown",
   "id": "da56f910-7e37-4ce0-be76-3b6f93bc8e30",
   "metadata": {},
   "source": [
    "The Protocol class contains several built-in features, in particular:\n",
    " - parameters: a dictionary of the parameters needed to run the protocol\n",
    " - dm: the density matrix used for the evolution of the protocol\n",
    " - fidelity, rate: values that get updated with the simulation results\n",
    "\n",
    "A key function of Protocol is the _do_lbb()_ function. This is a wrapper that applies a Logical Building Block to the density matrix, taking care to pass over all the relevant parameters.\n",
    "It is defined like this:"
   ]
  },
  {
   "cell_type": "code",
   "execution_count": 3,
   "id": "6e325480-0343-404a-a8a0-2a1436313a28",
   "metadata": {},
   "outputs": [],
   "source": [
    "    def do_lbb(self, LBB, **kwargs):\n",
    "        \"\"\"Makes a logical building block act on the density matrix.\"\"\"\n",
    "        kwargs.update(self.parameters)\n",
    "\n",
    "        self.dm = LBB(dm_in=self.dm, **kwargs)"
   ]
  },
  {
   "cell_type": "markdown",
   "id": "9b4a4793-82bc-408a-b80b-a404da342df9",
   "metadata": {},
   "source": [
    "For example: let's start from the initial density matrix of our protocol, which contains only the spin states, and apply a photon source LBB to generate a photon in  $|+\\rangle = 1/\\sqrt{2}(|E\\rangle + |L\\rangle)$.\n",
    "\n",
    "This is how the source is defined in the LBB library:"
   ]
  },
  {
   "cell_type": "code",
   "execution_count": 4,
   "id": "e3a1efd6-b89b-4a74-9deb-5ad6c325123c",
   "metadata": {},
   "outputs": [],
   "source": [
    "def photon_source_time_bin(dm_in, photon_early_name, photon_late_name, dim, alpha=None, **kw):\n",
    "    # We can either create a single ephoton\n",
    "    if alpha is None:\n",
    "        photon_basis = st.photon(dim)\n",
    "\n",
    "    # Or a coherent state\n",
    "    else:\n",
    "        photon_basis = qt.coherent(dim, alpha)\n",
    "\n",
    "    #We create the photonic modes and we prepare them in the |+> state\n",
    "    E = nq.name(photon_basis, photon_early_name, \"state\")\n",
    "    L = nq.name(photon_basis, photon_late_name, \"state\")\n",
    "    return nq.tensor(dm_in, nq.ket2dm((E + L).unit()))"
   ]
  },
  {
   "cell_type": "code",
   "execution_count": 5,
   "id": "2e54e763-b276-4718-bbc6-28134724df59",
   "metadata": {},
   "outputs": [
    {
     "data": {
      "text/latex": [
       "Quantum object: dims = [[2, 2], [2, 2]], shape = (4, 4), type = oper, isherm = True $ \\\\ \\left(\\begin{matrix}0.250 & 0.250 & 0.250 & 0.250\\\\0.250 & 0.250 & 0.250 & 0.250\\\\0.250 & 0.250 & 0.250 & 0.250\\\\0.250 & 0.250 & 0.250 & 0.250\\\\\\end{matrix}\\right)$ $\\\\$ names = [['Alice', 'Bob'], ['Alice', 'Bob']], kind = state"
      ],
      "text/plain": [
       "Quantum object: dims = [[2, 2], [2, 2]], shape = (4, 4), type = oper, isherm = True\n",
       "Qobj data =\n",
       "[[0.25 0.25 0.25 0.25]\n",
       " [0.25 0.25 0.25 0.25]\n",
       " [0.25 0.25 0.25 0.25]\n",
       " [0.25 0.25 0.25 0.25]]\n",
       "names: [['Alice', 'Bob'], ['Alice', 'Bob']]\n",
       "kind: state"
      ]
     },
     "metadata": {},
     "output_type": "display_data"
    },
    {
     "data": {
      "text/latex": [
       "Quantum object: dims = [[2, 2, 2, 2], [2, 2, 2, 2]], shape = (16, 16), type = oper, isherm = True $ \\\\ \\left(\\begin{matrix}0.0 & 0.0 & 0.0 & 0.0 & 0.0 & \\cdots & 0.0 & 0.0 & 0.0 & 0.0 & 0.0\\\\0.0 & 0.125 & 0.125 & 0.0 & 0.0 & \\cdots & 0.0 & 0.0 & 0.125 & 0.125 & 0.0\\\\0.0 & 0.125 & 0.125 & 0.0 & 0.0 & \\cdots & 0.0 & 0.0 & 0.125 & 0.125 & 0.0\\\\0.0 & 0.0 & 0.0 & 0.0 & 0.0 & \\cdots & 0.0 & 0.0 & 0.0 & 0.0 & 0.0\\\\0.0 & 0.0 & 0.0 & 0.0 & 0.0 & \\cdots & 0.0 & 0.0 & 0.0 & 0.0 & 0.0\\\\\\vdots & \\vdots & \\vdots & \\vdots & \\vdots & \\ddots & \\vdots & \\vdots & \\vdots & \\vdots & \\vdots\\\\0.0 & 0.0 & 0.0 & 0.0 & 0.0 & \\cdots & 0.0 & 0.0 & 0.0 & 0.0 & 0.0\\\\0.0 & 0.0 & 0.0 & 0.0 & 0.0 & \\cdots & 0.0 & 0.0 & 0.0 & 0.0 & 0.0\\\\0.0 & 0.125 & 0.125 & 0.0 & 0.0 & \\cdots & 0.0 & 0.0 & 0.125 & 0.125 & 0.0\\\\0.0 & 0.125 & 0.125 & 0.0 & 0.0 & \\cdots & 0.0 & 0.0 & 0.125 & 0.125 & 0.0\\\\0.0 & 0.0 & 0.0 & 0.0 & 0.0 & \\cdots & 0.0 & 0.0 & 0.0 & 0.0 & 0.0\\\\\\end{matrix}\\right)$ $\\\\$ names = [['Alice', 'Bob', 'E', 'L'], ['Alice', 'Bob', 'E', 'L']], kind = state"
      ],
      "text/plain": [
       "Quantum object: dims = [[2, 2, 2, 2], [2, 2, 2, 2]], shape = (16, 16), type = oper, isherm = True\n",
       "Qobj data =\n",
       "[[0.    0.    0.    0.    0.    0.    0.    0.    0.    0.    0.    0.\n",
       "  0.    0.    0.    0.   ]\n",
       " [0.    0.125 0.125 0.    0.    0.125 0.125 0.    0.    0.125 0.125 0.\n",
       "  0.    0.125 0.125 0.   ]\n",
       " [0.    0.125 0.125 0.    0.    0.125 0.125 0.    0.    0.125 0.125 0.\n",
       "  0.    0.125 0.125 0.   ]\n",
       " [0.    0.    0.    0.    0.    0.    0.    0.    0.    0.    0.    0.\n",
       "  0.    0.    0.    0.   ]\n",
       " [0.    0.    0.    0.    0.    0.    0.    0.    0.    0.    0.    0.\n",
       "  0.    0.    0.    0.   ]\n",
       " [0.    0.125 0.125 0.    0.    0.125 0.125 0.    0.    0.125 0.125 0.\n",
       "  0.    0.125 0.125 0.   ]\n",
       " [0.    0.125 0.125 0.    0.    0.125 0.125 0.    0.    0.125 0.125 0.\n",
       "  0.    0.125 0.125 0.   ]\n",
       " [0.    0.    0.    0.    0.    0.    0.    0.    0.    0.    0.    0.\n",
       "  0.    0.    0.    0.   ]\n",
       " [0.    0.    0.    0.    0.    0.    0.    0.    0.    0.    0.    0.\n",
       "  0.    0.    0.    0.   ]\n",
       " [0.    0.125 0.125 0.    0.    0.125 0.125 0.    0.    0.125 0.125 0.\n",
       "  0.    0.125 0.125 0.   ]\n",
       " [0.    0.125 0.125 0.    0.    0.125 0.125 0.    0.    0.125 0.125 0.\n",
       "  0.    0.125 0.125 0.   ]\n",
       " [0.    0.    0.    0.    0.    0.    0.    0.    0.    0.    0.    0.\n",
       "  0.    0.    0.    0.   ]\n",
       " [0.    0.    0.    0.    0.    0.    0.    0.    0.    0.    0.    0.\n",
       "  0.    0.    0.    0.   ]\n",
       " [0.    0.125 0.125 0.    0.    0.125 0.125 0.    0.    0.125 0.125 0.\n",
       "  0.    0.125 0.125 0.   ]\n",
       " [0.    0.125 0.125 0.    0.    0.125 0.125 0.    0.    0.125 0.125 0.\n",
       "  0.    0.125 0.125 0.   ]\n",
       " [0.    0.    0.    0.    0.    0.    0.    0.    0.    0.    0.    0.\n",
       "  0.    0.    0.    0.   ]]\n",
       "names: [['Alice', 'Bob', 'E', 'L'], ['Alice', 'Bob', 'E', 'L']]\n",
       "kind: state"
      ]
     },
     "metadata": {},
     "output_type": "display_data"
    }
   ],
   "source": [
    "# We define the neccessary parameters to create the photon. \n",
    "# \"dim\" is the Fock state dimension of each photonic Qubit state\n",
    "parameters = {\n",
    "    \"dim\": 2\n",
    "}\n",
    "\n",
    "p = ExampleProtocol(parameters)\n",
    "\n",
    "#This is the initial density matrix, we use it to initialize the process density matrix p.dm\n",
    "display(p.dm_init)\n",
    "p.dm = p.dm_init\n",
    "\n",
    "#Apply a photon source building block.\n",
    "p.do_lbb(lbb.photon_source_time_bin, photon_early_name=\"E\", photon_late_name=\"L\")\n",
    "\n",
    "# This is what the density matrix looks like after the LBB:\n",
    "display(p.dm)"
   ]
  },
  {
   "cell_type": "markdown",
   "id": "acef2a3f-7e8d-4a72-bc96-31549b8f5d18",
   "metadata": {},
   "source": [
    "The _photon_source_time_bin()_ function took care of creating the photons in the correct state and adding them to the density matrix, thanks to the tensor product using NQobj()."
   ]
  },
  {
   "cell_type": "markdown",
   "id": "12e70c14-1180-44a2-afbe-f0a5711cd40f",
   "metadata": {},
   "source": [
    "Now, in the same way we can apply the Conditional Amplitude Reflection SPI LBB.\n",
    "\n",
    "In the ideal case, this is a spin-dependent cavity where the photon is totally reflected if the spin is in $|\\downarrow\\rangle$ and totally transmitted if the spin is in $|\\uparrow\\rangle$.\n",
    "\n",
    "We first describe the LBB in terms of Physical Building Blocks:\n",
    "\n",
    "![image.png](Images/qurebb_example_2.png))\n",
    "\n",
    "And we define the LBB function:"
   ]
  },
  {
   "cell_type": "code",
   "execution_count": 6,
   "id": "91f856d1-aa3c-473f-922c-a26c66b289bb",
   "metadata": {},
   "outputs": [],
   "source": [
    "def conditional_amplitude_reflection_time_bin_spi_ideal(\n",
    "    dm_in,\n",
    "    spin_name,\n",
    "    photon_early_name,\n",
    "    photon_late_name,\n",
    "    dim,\n",
    "    **kw,\n",
    "):\n",
    "\n",
    "    # Reflection coefficient and transmission coefficients for states up (u) and down (d)\n",
    "    t_u = r_d = 1\n",
    "    t_d = r_u = 0\n",
    "\n",
    "    # No loss\n",
    "    l_u = l_d = 0\n",
    "\n",
    "\n",
    "    # We provide the parameters to the Physical Building Block of a conditional amplitude reflection SPI\n",
    "    cav = pbb.conditional_amplitude_reflection(r_u, t_u, l_u, r_d, t_d, l_d, dim=dim)\n",
    "\n",
    "    # Specifying which Spin it refers to.\n",
    "    cav.rename(\"spin\", spin_name)\n",
    "\n",
    "    # We realise PBB implementation of the LBB, first the cavity is applied to Early\n",
    "    cav.rename(\"R\", photon_early_name)\n",
    "    cav.rename(\"T\", \"loss_transmission\")\n",
    "    cav.rename(\"loss\", \"loss\")\n",
    "\n",
    "    dm_E_full = cav * dm_in * cav.dag()\n",
    "\n",
    "    # Tracing out the lost modes\n",
    "    dm_E = lbb.trace_out_loss_modes(dm_E_full)\n",
    "\n",
    "    # We apply a pi rotation on the spin\n",
    "    RX_pi = nq.NQobj([[0, 1], [1, 0]], names=spin_name, kind=\"oper\")\n",
    "\n",
    "    # And we apply the same cavity PBB to Late by renaming the photonic mode it operates on\n",
    "    cav.rename(photon_early_name, photon_late_name)\n",
    "    dm_L_full = cav * (RX_pi * dm_E * RX_pi.dag()) * cav.dag()\n",
    "\n",
    "    #Finally we trace out the lost modes.\n",
    "    dm_L = lbb.trace_out_loss_modes(dm_L_full)\n",
    "\n",
    "    #Finally, we return the modified density matrix\n",
    "    return dm_L"
   ]
  },
  {
   "cell_type": "markdown",
   "id": "947a1b2b-d708-4bc9-bc4c-2a77bc94668e",
   "metadata": {},
   "source": [
    "We can now apply this  in our protocol, first to Alice:"
   ]
  },
  {
   "cell_type": "code",
   "execution_count": 7,
   "id": "9dc5a468-7e8f-4cd4-8e7f-a68092bbde09",
   "metadata": {},
   "outputs": [
    {
     "name": "stderr",
     "output_type": "stream",
     "text": [
      "c:\\Users\\hakna\\Repositories\\2024.CQNSchool.DigitalTwin\\lib\\PBB.py:50: RuntimeWarning: divide by zero encountered in scalar divide\n",
      "  theta_splitting_u = np.arctan(np.abs(t_prime_u) / np.abs(r_prime_u))\n"
     ]
    }
   ],
   "source": [
    "p.do_lbb(\n",
    "        conditional_amplitude_reflection_time_bin_spi_ideal,\n",
    "        photon_early_name=\"E\",\n",
    "        photon_late_name=\"L\",\n",
    "        spin_name=\"Alice\",\n",
    ")"
   ]
  },
  {
   "cell_type": "markdown",
   "id": "cf8d0c7a-36f8-4168-ae85-bbed5196b858",
   "metadata": {},
   "source": [
    "Then to Bob:"
   ]
  },
  {
   "cell_type": "code",
   "execution_count": 8,
   "id": "698bc45c-7075-4773-bfc2-21cfe40fea1b",
   "metadata": {},
   "outputs": [],
   "source": [
    "p.do_lbb(\n",
    "        conditional_amplitude_reflection_time_bin_spi_ideal,\n",
    "        photon_early_name=\"E\",\n",
    "        photon_late_name=\"L\",\n",
    "        spin_name=\"Bob\",\n",
    ")"
   ]
  },
  {
   "cell_type": "markdown",
   "id": "0a0bc59c-c42b-46b3-be0d-c724b0489f6b",
   "metadata": {},
   "source": [
    "Now we can herald and project the spins in an entangled state.\n",
    "\n",
    "For this protocol to work, we need to measure the photons in the X basis. We can implement this by first rotating the basis and measuring in $\\{|E\\rangle, |L\\rangle\\}$."
   ]
  },
  {
   "cell_type": "code",
   "execution_count": 9,
   "id": "de883cc3-5b3f-41f4-b152-02298fda3b83",
   "metadata": {},
   "outputs": [
    {
     "name": "stdout",
     "output_type": "stream",
     "text": [
      "Heralding a photon in Early gives the state psi_+ with Fidelity: 1.000 and Success Probability: 0.125 \n",
      "Heralding a photon in Late gives the state psi_- with Fidelity: 1.000 and Success Probability: 0.125 \n"
     ]
    }
   ],
   "source": [
    "#First rotate the basis\n",
    "p.do_lbb(lbb.basis_rotation, photon_names=[\"E\", \"L\"])\n",
    "\n",
    "#And herald on the photonic states we previously defined, to get the rate and fidelity:\n",
    "def herald(dm_in, herald_projector, **kw):\n",
    "    dm_final = herald_projector * dm_in * herald_projector.dag()\n",
    "    return lbb.trace_out_everything_but_spins(dm_final)\n",
    "\n",
    "#We herald on a photon in Early\n",
    "heralded_dm_E = herald(copy(p.dm), p.herald_projectors[0])\n",
    "\n",
    "# And check the fidelity and success probability of getting Psi_+\n",
    "fidelity = nq.fidelity(heralded_dm_E.unit(), nq.ket2dm(p.target_states[0])) ** 2\n",
    "rate = heralded_dm_E.tr()\n",
    "print(f\"Heralding a photon in Early gives the state psi_+ with Fidelity: {fidelity:.3f} and Success Probability: {rate:.3f} \")\n",
    "\n",
    "#And we do the same with Late and Psi_-\n",
    "heralded_dm_L = herald(copy(p.dm), p.herald_projectors[1])\n",
    "\n",
    "fidelity = nq.fidelity(heralded_dm_L.unit(), nq.ket2dm(p.target_states[1])) ** 2\n",
    "rate = heralded_dm_L.tr()\n",
    "print(f\"Heralding a photon in Late gives the state psi_- with Fidelity: {fidelity:.3f} and Success Probability: {rate:.3f} \")"
   ]
  },
  {
   "cell_type": "markdown",
   "id": "4c492cf4-04b5-48ce-bbc6-4f0d263460c8",
   "metadata": {},
   "source": [
    "We have entanglement!"
   ]
  },
  {
   "cell_type": "markdown",
   "id": "6a5faf03-b8fa-413c-8962-70e4746b8aa7",
   "metadata": {},
   "source": [
    "Now, the Protocol class contains several functions that make running the protocol much simpler. It will take care of initialising the density matrix, running all the LBBs and doing the hearlding and fidelity/rate measurement. This is done with the _Protocol.run()_ function:"
   ]
  },
  {
   "cell_type": "code",
   "execution_count": 10,
   "id": "4d1540f8-860e-4679-9668-9de13a37faa2",
   "metadata": {},
   "outputs": [],
   "source": [
    "    def run(self):\n",
    "        \"\"\"Runs the protocol sequence and return the metrics\"\"\"\n",
    "        self.dm = self.dm_init\n",
    "        self.protocol_sequence()\n",
    "        fidelity, rate = self.herald()\n",
    "        return fidelity, rate"
   ]
  },
  {
   "cell_type": "markdown",
   "id": "ef3eb1c1-4d97-4332-847e-645a1567ebc4",
   "metadata": {},
   "source": [
    "So in our protocol, we can just define the _protocol_sequence()_"
   ]
  },
  {
   "cell_type": "code",
   "execution_count": 11,
   "id": "8d60b75a-21ae-4be7-b364-d6c2dfdf7f05",
   "metadata": {},
   "outputs": [],
   "source": [
    "class ExampleProtocol(Protocol):\n",
    "    \"\"\" \n",
    "        Our protocol class to simulate Spin-Photon Entanglement\n",
    "    \"\"\"\n",
    "    def __init__(self, parameters: dict):\n",
    "        super().__init__(parameters)\n",
    "\n",
    "        # We prepare the initial state of the spins in |x >\n",
    "        self.dm_init = nq.tensor(nq.name(st.x_dm, \"Alice\", \"state\"), nq.name(st.x_dm, \"Bob\", \"state\"))\n",
    "\n",
    "        # We definet the two herald state projectors.\n",
    "        self.herald_projectors = [\n",
    "            no_vacuum_projector(name=\"E\", dim=self.dim),\n",
    "            no_vacuum_projector(name=\"L\", dim=self.dim),\n",
    "        ]\n",
    "\n",
    "        # And the corresponding target entangled states\n",
    "\n",
    "        state_uu = nq.tensor(nq.name(st.up, \"Alice\", \"state\"), nq.name(st.up, \"Bob\", \"state\"))\n",
    "        state_dd = nq.tensor(nq.name(st.down, \"Alice\", \"state\"), nq.name(st.down, \"Bob\", \"state\"))\n",
    "        \n",
    "        self.target_states = [\n",
    "            (state_uu + state_dd).unit(), \n",
    "            (state_uu - state_dd).unit()\n",
    "        ]\n",
    "        \n",
    "\n",
    "    def protocol_sequence(self):\n",
    "        self.do_lbb(lbb.photon_source_time_bin, photon_early_name=\"E\", photon_late_name=\"L\")\n",
    "\n",
    "        self.do_lbb(\n",
    "            conditional_amplitude_reflection_time_bin_spi_ideal,\n",
    "            photon_early_name=\"E\",\n",
    "            photon_late_name=\"L\",\n",
    "            spin_name=\"Alice\",\n",
    "        )\n",
    "\n",
    "        self.do_lbb(\n",
    "            conditional_amplitude_reflection_time_bin_spi_ideal,\n",
    "            photon_early_name=\"E\",\n",
    "            photon_late_name=\"L\",\n",
    "            spin_name=\"Bob\",\n",
    "        )\n",
    "\n",
    "        self.do_lbb(lbb.basis_rotation, photon_names=[\"E\", \"L\"], sign=+1)\n"
   ]
  },
  {
   "cell_type": "code",
   "execution_count": 12,
   "id": "fbb3d277-8b01-486f-9208-0e1d8d73f3b2",
   "metadata": {},
   "outputs": [
    {
     "name": "stdout",
     "output_type": "stream",
     "text": [
      "The Fidelities for the two herald states are: [1.000, 1.000] and the Success Probability: [0.125, 0.125] \n"
     ]
    }
   ],
   "source": [
    "parameters = {\n",
    "    \"dim\": 2\n",
    "}\n",
    "\n",
    "p = ExampleProtocol(parameters)\n",
    "p.run()\n",
    "print( f\"The Fidelities for the two herald states are: [{p.fidelity[0]:.3f}, {p.fidelity[1]:.3f}] and the Success Probability: [{p.rate[0]:.3f}, {p.rate[1]:.3f}] \")"
   ]
  },
  {
   "cell_type": "markdown",
   "id": "b50c1968-c4b5-4d11-bda8-2005b9ad8fdf",
   "metadata": {},
   "source": [
    "## Introducing quantum optical modeling"
   ]
  },
  {
   "cell_type": "markdown",
   "id": "9693bad4-825a-4fd5-84d3-13b54e966014",
   "metadata": {},
   "source": [
    "This is the ideal protocol. A step further is to use quantum optical modeling of the cavity-emitter system that we use for the SPI.\n",
    "\n",
    "First, let's look at what the cavity spectrum looks like for some parameters:"
   ]
  },
  {
   "cell_type": "code",
   "execution_count": 13,
   "id": "770d6837-32a3-47f1-974f-396d4d90f1fe",
   "metadata": {},
   "outputs": [],
   "source": [
    "parameters = {\n",
    "\n",
    "    'gamma_dephasing': 0,\n",
    "    'splitting': 3e9,\n",
    "    'DW': 1.,\n",
    "    'QE': 1.,\n",
    "    'dim': 2,\n",
    "    'ideal': False,\n",
    "    'f_operation': 0,\n",
    "    'delta': 0,\n",
    "    'kappa_r': 20.e9,\n",
    "    'kappa_t': 20.e9, \n",
    "    'gamma': 100e6,\n",
    "    'g': 2e9,\n",
    "    'alpha': None\n",
    "}\n",
    "\n",
    "C = 4*parameters['g']**2/(parameters['kappa_t']+parameters['kappa_r'])/parameters['gamma']\n",
    "\n",
    "frequencies = np.linspace(-30e9, 30e9, 1001)\n",
    "\n",
    "from lib.quantum_optical_modelling import cavity_qom_cavity_centered\n",
    "\n",
    "t_up, r_up, l_up = cavity_qom_cavity_centered(\n",
    "                        omega=frequencies,\n",
    "                        delta = parameters['delta'], \n",
    "                        kappa_r = parameters['kappa_r'],\n",
    "                        kappa_t = parameters['kappa_t'],\n",
    "                        kappa_loss = 0, \n",
    "                        gamma = parameters['gamma'], \n",
    "                        C = C\n",
    ")\n",
    "\n",
    "t_down, r_down, l_down = cavity_qom_cavity_centered(\n",
    "                        omega=frequencies,\n",
    "                        delta = parameters['delta'] - parameters['splitting'], \n",
    "                        kappa_r = parameters['kappa_r'],\n",
    "                        kappa_t = parameters['kappa_t'],\n",
    "                        kappa_loss = 0, \n",
    "                        gamma = parameters['gamma'], \n",
    "                        C = C\n",
    ")\n"
   ]
  },
  {
   "cell_type": "code",
   "execution_count": 14,
   "id": "ee46ef69-be60-4d93-ad27-61b48204ed18",
   "metadata": {},
   "outputs": [
    {
     "data": {
      "text/plain": [
       "<matplotlib.legend.Legend at 0x1469f4fac90>"
      ]
     },
     "execution_count": 14,
     "metadata": {},
     "output_type": "execute_result"
    },
    {
     "data": {
      "image/png": "[encoded data removed]",
      "text/plain": [
       "<Figure size 640x480 with 1 Axes>"
      ]
     },
     "metadata": {},
     "output_type": "display_data"
    }
   ],
   "source": [
    "fig, ax = plt.subplots()\n",
    "\n",
    "ax.vlines(parameters[\"f_operation\"], 0, 1, label = 'Operation frequency', color = 'k', linestyle='--')\n",
    "ax.plot(frequencies, np.abs(r_up)**2, label = r\"$|\\uparrow\\rangle$\", color = 'r')\n",
    "ax.plot(frequencies, np.abs(r_down)**2, label = r\"$|\\downarrow\\rangle$\", color = 'b')\n",
    "\n",
    "ax.set_title('Spin-dependent cavity spectrum')\n",
    "ax.set_xlabel('Frequency [GHz]')\n",
    "ax.set_ylabel('Reflection')\n",
    "plt.legend()"
   ]
  },
  {
   "cell_type": "markdown",
   "id": "c1886a0b-1b5e-45a7-ac24-a9dfbe7079a8",
   "metadata": {},
   "source": [
    "This deviates from the ideal case, as at the operation frequency the reflectivity for spin up is not perfectly 1 and for spin down is not perfectly zero. \n",
    "Indeed we are interested in what fidelity we can achieve with this configuration.\n",
    "\n",
    "First, we need to change the SPI LBB:"
   ]
  },
  {
   "cell_type": "code",
   "execution_count": 15,
   "id": "50bd126f-1405-47c7-95b5-2c0c3a5b80d8",
   "metadata": {},
   "outputs": [],
   "source": [
    "def conditional_amplitude_reflection_time_bin_spi(\n",
    "    dm_in,\n",
    "    spin_name,\n",
    "    photon_early_name,\n",
    "    photon_late_name,\n",
    "    dim,\n",
    "    atom_centered=True,\n",
    "    f_operation=None,\n",
    "    kappa_r=None,\n",
    "    kappa_t=None,\n",
    "    kappa_loss=0,\n",
    "    gamma=None,\n",
    "    delta=None,\n",
    "    splitting=None,\n",
    "    g=None,\n",
    "    ideal=False,\n",
    "    gamma_dephasing=0,\n",
    "    **kw,\n",
    "):\n",
    "\n",
    "    #We just chhange how we get the reflection coefficients, which now are taken from the quantum optical modeling\n",
    "    C = 4 * g**2 / (kappa_t + kappa_r + kappa_loss) / (gamma + gamma_dephasing)\n",
    "\n",
    "    t_u, r_u, l_u = qom.cavity_qom_cavity_centered(\n",
    "                f_operation, delta, kappa_r, kappa_t, kappa_loss, gamma, C, gamma_dephasing=gamma_dephasing\n",
    "            )\n",
    "    t_d, r_d, l_d = qom.cavity_qom_cavity_centered(\n",
    "                f_operation, delta - splitting, kappa_r, kappa_t, kappa_loss, gamma, C, gamma_dephasing=gamma_dephasing\n",
    "            )\n",
    "\n",
    "\n",
    "    # We provide the parameters to the Physical Building Block of a conditional amplitude reflection SPI\n",
    "    cav = pbb.conditional_amplitude_reflection(r_u, t_u, l_u, r_d, t_d, l_d, dim=dim)\n",
    "\n",
    "    # Specifying which Spin it refers to.\n",
    "    cav.rename(\"spin\", spin_name)\n",
    "\n",
    "    # We realise PBB implementation of the LBB, first the cavity is applied to Early\n",
    "    cav.rename(\"R\", photon_early_name)\n",
    "    cav.rename(\"T\", \"loss_transmission\")\n",
    "    cav.rename(\"loss\", \"loss\")\n",
    "\n",
    "    dm_E_full = cav * dm_in * cav.dag()\n",
    "\n",
    "    # Tracing out the lost modes\n",
    "    dm_E = lbb.trace_out_loss_modes(dm_E_full)\n",
    "\n",
    "    # We apply a pi rotation on the spin\n",
    "    RX_pi = nq.NQobj([[0, 1], [1, 0]], names=spin_name, kind=\"oper\")\n",
    "\n",
    "    # And we apply the same cavity PBB to Late by renaming the photonic mode it operates on\n",
    "    cav.rename(photon_early_name, photon_late_name)\n",
    "    dm_L_full = cav * (RX_pi * dm_E * RX_pi.dag()) * cav.dag()\n",
    "\n",
    "    #Finally we trace out the lost modes.\n",
    "    dm_L = lbb.trace_out_loss_modes(dm_L_full)\n",
    "\n",
    "    #Finally, we return the modified density matrix\n",
    "    return dm_L"
   ]
  },
  {
   "cell_type": "markdown",
   "id": "0fcaf3e4-ab3d-4cbb-848f-6756c9f32767",
   "metadata": {},
   "source": [
    "We can the redefine the protocol:"
   ]
  },
  {
   "cell_type": "code",
   "execution_count": 16,
   "id": "d72a1434-3c88-4fc4-822e-26122d517599",
   "metadata": {},
   "outputs": [],
   "source": [
    "class ExampleProtocol(Protocol):\n",
    "    \"\"\" \n",
    "        Our protocol class to simulate Spin-Photon Entanglement\n",
    "    \"\"\"\n",
    "    def __init__(self, parameters: dict):\n",
    "        super().__init__(parameters)\n",
    "\n",
    "        # We prepare the initial state of the spins in |x >\n",
    "        self.dm_init = nq.tensor(nq.name(st.x_dm, \"Alice\", \"state\"), nq.name(st.x_dm, \"Bob\", \"state\"))\n",
    "\n",
    "        # We definet the two herald state projectors.\n",
    "        self.herald_projectors = [\n",
    "            no_vacuum_projector(name=\"E\", dim=self.dim),\n",
    "            no_vacuum_projector(name=\"L\", dim=self.dim),\n",
    "        ]\n",
    "\n",
    "        # And the corresponding target entangled states\n",
    "\n",
    "        state_uu = nq.tensor(nq.name(st.up, \"Alice\", \"state\"), nq.name(st.up, \"Bob\", \"state\"))\n",
    "        state_dd = nq.tensor(nq.name(st.down, \"Alice\", \"state\"), nq.name(st.down, \"Bob\", \"state\"))\n",
    "        \n",
    "        self.target_states = [\n",
    "            (state_uu + state_dd).unit(), \n",
    "            (state_uu - state_dd).unit()\n",
    "        ]\n",
    "        \n",
    "\n",
    "    def protocol_sequence(self):\n",
    "        self.do_lbb(lbb.photon_source_time_bin, photon_early_name=\"E\", photon_late_name=\"L\")\n",
    "\n",
    "        self.do_lbb(\n",
    "            conditional_amplitude_reflection_time_bin_spi,\n",
    "            photon_early_name=\"E\",\n",
    "            photon_late_name=\"L\",\n",
    "            spin_name=\"Alice\",\n",
    "        )\n",
    "\n",
    "        self.do_lbb(\n",
    "            conditional_amplitude_reflection_time_bin_spi,\n",
    "            photon_early_name=\"E\",\n",
    "            photon_late_name=\"L\",\n",
    "            spin_name=\"Bob\",\n",
    "        )\n",
    "\n",
    "        self.do_lbb(lbb.basis_rotation, photon_names=[\"E\", \"L\"])\n"
   ]
  },
  {
   "cell_type": "markdown",
   "id": "a6e46dbe-6474-4014-9e89-8d0e1499a438",
   "metadata": {},
   "source": [
    "And we run it with the same parameters we have shown before"
   ]
  },
  {
   "cell_type": "code",
   "execution_count": 17,
   "id": "c97bad94-1228-48ca-b016-46d823118fe3",
   "metadata": {},
   "outputs": [
    {
     "name": "stdout",
     "output_type": "stream",
     "text": [
      "The Fidelities for the two herald states are: [0.747, 1.000] and the Success Probability: [0.115, 0.111] \n"
     ]
    }
   ],
   "source": [
    "p = ExampleProtocol(parameters)\n",
    "p.run()\n",
    "\n",
    "print( f\"The Fidelities for the two herald states are: [{p.fidelity[0]:.3f}, {p.fidelity[1]:.3f}] and the Success Probability: [{p.rate[0]:.3f}, {p.rate[1]:.3f}] \")"
   ]
  },
  {
   "cell_type": "markdown",
   "id": "d0da56ac-5959-4ef9-b58a-b1694bdaef33",
   "metadata": {},
   "source": [
    "The protocol was successful, as we can see one of the two states has higher fidelity than the other (this is expected when the two nodes have equal parameters because the errors on $|\\psi_-\\rangle$ cancel out [2]).\n",
    "\n",
    "The total fidelity and rate the protocol calculates is the weighted average over the success probability of the two fidelities)"
   ]
  },
  {
   "cell_type": "code",
   "execution_count": 18,
   "id": "2ca30cbc-733b-43c9-8638-373070fdbae5",
   "metadata": {},
   "outputs": [
    {
     "name": "stdout",
     "output_type": "stream",
     "text": [
      "Total fidelity: 0.871, total Success Probability: 0.226\n"
     ]
    }
   ],
   "source": [
    "print(f\"Total fidelity: {p.fidelity_total:.3f}, total Success Probability: {p.rate_total:.3f}\")"
   ]
  },
  {
   "cell_type": "markdown",
   "id": "b5510381-7a27-4333-bd90-3562c027513b",
   "metadata": {},
   "source": [
    "### References\n",
    "\n",
    "[1] H.K.C. Beukers, M. Pasini, H. Choi et. al., (2023) 'Tutorial: Remote entanglement protocols for stationary qubits with photonic interface', link\n",
    "\n",
    "\n",
    "[2] C.M. Knaut, A. Suleymanzade, Y.-C. Wei, D. R. Assumpcao, P.-J. Stas et al. (2023) ‘Entanglement of Nanophotonic Quantum Memory Nodes in a Telecommunication Network’. arXiv. Available at: https://doi.org/10.48550/arXiv.2310.01316.\n",
    "\n",
    "\n"
   ]
  }
 ],
 "metadata": {
  "kernelspec": {
   "display_name": "Python 3 (ipykernel)",
   "language": "python",
   "name": "python3"
  },
  "language_info": {
   "codemirror_mode": {
    "name": "ipython",
    "version": 3
   },
   "file_extension": ".py",
   "mimetype": "text/x-python",
   "name": "python",
   "nbconvert_exporter": "python",
   "pygments_lexer": "ipython3",
   "version": "3.11.0"
  }
 },
 "nbformat": 4,
 "nbformat_minor": 5
}
